{
 "cells": [
  {
   "cell_type": "markdown",
   "metadata": {},
   "source": [
    "# ML Pipeline Preparation\n",
    "Follow the instructions below to help you create your ML pipeline.\n",
    "### 1. Import libraries and load data from database.\n",
    "- Import Python libraries\n",
    "- Load dataset from database with [`read_sql_table`](https://pandas.pydata.org/pandas-docs/stable/generated/pandas.read_sql_table.html)\n",
    "- Define feature and target variables X and Y"
   ]
  },
  {
   "cell_type": "code",
   "execution_count": 1,
   "metadata": {},
   "outputs": [
    {
     "name": "stdout",
     "output_type": "stream",
     "text": [
      "[nltk_data] Downloading package wordnet to /root/nltk_data...\n",
      "[nltk_data]   Unzipping corpora/wordnet.zip.\n",
      "[nltk_data] Downloading package punkt to /root/nltk_data...\n",
      "[nltk_data]   Unzipping tokenizers/punkt.zip.\n",
      "[nltk_data] Downloading package stopwords to /root/nltk_data...\n",
      "[nltk_data]   Unzipping corpora/stopwords.zip.\n"
     ]
    }
   ],
   "source": [
    "# import libraries\n",
    "import pandas as pd\n",
    "import numpy as np\n",
    "from sqlalchemy import create_engine\n",
    "import nltk\n",
    "nltk.download([\"wordnet\", \"punkt\", \"stopwords\"])\n",
    "from nltk.tokenize import word_tokenize\n",
    "from nltk.corpus import stopwords\n",
    "from nltk.stem.wordnet import WordNetLemmatizer\n",
    "import re\n",
    "from sklearn.multioutput import MultiOutputClassifier\n",
    "from sklearn.model_selection import GridSearchCV\n",
    "from sklearn.pipeline import Pipeline\n",
    "#from sklearn.metrics import confusion_matrix\n",
    "from sklearn.model_selection import train_test_split\n",
    "from sklearn.ensemble import RandomForestClassifier\n",
    "from sklearn.feature_extraction.text import CountVectorizer, TfidfTransformer\n",
    "from sklearn.metrics import classification_report\n",
    "\n",
    "from gensim.models import Word2Vec \n",
    "import gensim\n",
    "import pickle"
   ]
  },
  {
   "cell_type": "code",
   "execution_count": 2,
   "metadata": {},
   "outputs": [],
   "source": [
    "# load data from database\n",
    "engine = create_engine('sqlite:///InsertDatabaseName.db')\n",
    "df = pd.read_sql_table(\"InsertTableName\", con=engine)\n",
    "#Y = df.drop(\"message\", axis=1)\n",
    "Y = df.iloc[:,4:]\n",
    "X = df[\"message\"]\n",
    "#There is a 2 that shouldnt be there, replacing it with the mode\n",
    "Y[\"related\"] = np.where(Y[\"related\"]==2, 0,1)"
   ]
  },
  {
   "cell_type": "code",
   "execution_count": 19,
   "metadata": {},
   "outputs": [],
   "source": [
    "Y = df.iloc[:,4:].sum()\n",
    "cat_values = Y.values\n",
    "cat_names = Y.index\n",
    "\n",
    "Y_ratio = Y/len(df)\n",
    "cat_ratio_values = Y_ratio.values\n",
    "cat_ratio_names = Y_ratio.index"
   ]
  },
  {
   "cell_type": "code",
   "execution_count": 20,
   "metadata": {},
   "outputs": [
    {
     "data": {
      "text/plain": [
       "36"
      ]
     },
     "execution_count": 20,
     "metadata": {},
     "output_type": "execute_result"
    }
   ],
   "source": [
    "len(Y)"
   ]
  },
  {
   "cell_type": "code",
   "execution_count": 21,
   "metadata": {},
   "outputs": [
    {
     "data": {
      "text/plain": [
       "related                   20282\n",
       "request                    4474\n",
       "offer                       118\n",
       "aid_related               10860\n",
       "medical_help               2084\n",
       "medical_products           1313\n",
       "search_and_rescue           724\n",
       "security                    471\n",
       "military                    860\n",
       "child_alone                   0\n",
       "water                      1672\n",
       "food                       2923\n",
       "shelter                    2314\n",
       "clothing                    405\n",
       "money                       604\n",
       "missing_people              298\n",
       "refugees                    875\n",
       "death                      1194\n",
       "other_aid                  3446\n",
       "infrastructure_related     1705\n",
       "transport                  1201\n",
       "buildings                  1333\n",
       "electricity                 532\n",
       "tools                       159\n",
       "hospitals                   283\n",
       "shops                       120\n",
       "aid_centers                 309\n",
       "other_infrastructure       1151\n",
       "weather_related            7297\n",
       "floods                     2155\n",
       "storm                      2443\n",
       "fire                        282\n",
       "earthquake                 2455\n",
       "cold                        530\n",
       "other_weather              1376\n",
       "direct_report              5075\n",
       "dtype: int64"
      ]
     },
     "execution_count": 21,
     "metadata": {},
     "output_type": "execute_result"
    }
   ],
   "source": [
    "Y"
   ]
  },
  {
   "cell_type": "code",
   "execution_count": 23,
   "metadata": {},
   "outputs": [
    {
     "data": {
      "text/plain": [
       "array([ 0.77364968,  0.17065914,  0.00450107,  0.41425084,  0.07949344,\n",
       "        0.05008392,  0.02761672,  0.01796613,  0.03280439,  0.        ,\n",
       "        0.06377785,  0.1114968 ,  0.08826671,  0.01544858,  0.02303937,\n",
       "        0.0113671 ,  0.03337656,  0.04554471,  0.13144644,  0.06503662,\n",
       "        0.04581172,  0.05084681,  0.02029295,  0.006065  ,  0.01079493,\n",
       "        0.00457736,  0.0117867 ,  0.04390449,  0.27834147,  0.08220171,\n",
       "        0.09318737,  0.01075679,  0.0936451 ,  0.02021666,  0.05248703,\n",
       "        0.19358407])"
      ]
     },
     "execution_count": 23,
     "metadata": {},
     "output_type": "execute_result"
    }
   ],
   "source": [
    "cat_ratio_values"
   ]
  },
  {
   "cell_type": "code",
   "execution_count": 12,
   "metadata": {},
   "outputs": [],
   "source": [
    "y_series = Y.sum()/len(Y)"
   ]
  },
  {
   "cell_type": "code",
   "execution_count": 13,
   "metadata": {},
   "outputs": [
    {
     "data": {
      "text/plain": [
       "Index(['related', 'request', 'offer', 'aid_related', 'medical_help',\n",
       "       'medical_products', 'search_and_rescue', 'security', 'military',\n",
       "       'child_alone', 'water', 'food', 'shelter', 'clothing', 'money',\n",
       "       'missing_people', 'refugees', 'death', 'other_aid',\n",
       "       'infrastructure_related', 'transport', 'buildings', 'electricity',\n",
       "       'tools', 'hospitals', 'shops', 'aid_centers', 'other_infrastructure',\n",
       "       'weather_related', 'floods', 'storm', 'fire', 'earthquake', 'cold',\n",
       "       'other_weather', 'direct_report'],\n",
       "      dtype='object')"
      ]
     },
     "execution_count": 13,
     "metadata": {},
     "output_type": "execute_result"
    }
   ],
   "source": [
    "y_series.index"
   ]
  },
  {
   "cell_type": "code",
   "execution_count": 14,
   "metadata": {},
   "outputs": [
    {
     "data": {
      "text/plain": [
       "array([ 0.99282881,  0.17065914,  0.00450107,  0.41425084,  0.07949344,\n",
       "        0.05008392,  0.02761672,  0.01796613,  0.03280439,  0.        ,\n",
       "        0.06377785,  0.1114968 ,  0.08826671,  0.01544858,  0.02303937,\n",
       "        0.0113671 ,  0.03337656,  0.04554471,  0.13144644,  0.06503662,\n",
       "        0.04581172,  0.05084681,  0.02029295,  0.006065  ,  0.01079493,\n",
       "        0.00457736,  0.0117867 ,  0.04390449,  0.27834147,  0.08220171,\n",
       "        0.09318737,  0.01075679,  0.0936451 ,  0.02021666,  0.05248703,\n",
       "        0.19358407])"
      ]
     },
     "execution_count": 14,
     "metadata": {},
     "output_type": "execute_result"
    }
   ],
   "source": [
    "y_series.values"
   ]
  },
  {
   "cell_type": "markdown",
   "metadata": {},
   "source": [
    "Is there any variable that is constant? Yes, \"child_alone\""
   ]
  },
  {
   "cell_type": "code",
   "execution_count": 3,
   "metadata": {
    "scrolled": true
   },
   "outputs": [
    {
     "data": {
      "text/plain": [
       "'child_alone'"
      ]
     },
     "execution_count": 3,
     "metadata": {},
     "output_type": "execute_result"
    }
   ],
   "source": [
    "variables = (Y.describe()[Y.describe().index == \"std\"] == 0).any()\n",
    "variables[variables.values == True].index.values[0]"
   ]
  },
  {
   "cell_type": "code",
   "execution_count": 4,
   "metadata": {},
   "outputs": [],
   "source": [
    "Y.drop(\"child_alone\", axis=1, inplace=True)"
   ]
  },
  {
   "cell_type": "markdown",
   "metadata": {},
   "source": [
    "### 2. Write a tokenization function to process your text data"
   ]
  },
  {
   "cell_type": "code",
   "execution_count": 5,
   "metadata": {},
   "outputs": [],
   "source": [
    "def tokenize(text):\n",
    "    #Normalize, Remove punctuation characters and lower text\n",
    "    text = text.lower()\n",
    "    text = re.sub(r\"[^a-zA-Z]\", \" \", text)\n",
    "    #Tokenize\n",
    "    text = word_tokenize(text)\n",
    "    #Remove stop words\n",
    "    words = [w for w in text if w not in stopwords.words(\"english\")]\n",
    "    # Lemmetize, reduce words to their root form\n",
    "    lemmed = [WordNetLemmatizer().lemmatize(w) for w in words]\n",
    "    return lemmed"
   ]
  },
  {
   "cell_type": "code",
   "execution_count": 6,
   "metadata": {},
   "outputs": [
    {
     "data": {
      "text/plain": [
       "0    Weather update - a cold front from Cuba that c...\n",
       "1              Is the Hurricane over or is it not over\n",
       "Name: message, dtype: object"
      ]
     },
     "execution_count": 6,
     "metadata": {},
     "output_type": "execute_result"
    }
   ],
   "source": [
    "X[:2]"
   ]
  },
  {
   "cell_type": "code",
   "execution_count": 7,
   "metadata": {},
   "outputs": [
    {
     "data": {
      "text/plain": [
       "0    [weather, update, cold, front, cuba, could, pa...\n",
       "1                                          [hurricane]\n",
       "2                             [looking, someone, name]\n",
       "3    [un, report, leogane, destroyed, hospital, st,...\n",
       "4    [say, west, side, haiti, rest, country, today,...\n",
       "Name: message, dtype: object"
      ]
     },
     "execution_count": 7,
     "metadata": {},
     "output_type": "execute_result"
    }
   ],
   "source": [
    "X[:5].apply(tokenize)"
   ]
  },
  {
   "cell_type": "code",
   "execution_count": 8,
   "metadata": {},
   "outputs": [
    {
     "data": {
      "text/plain": [
       "26216"
      ]
     },
     "execution_count": 8,
     "metadata": {},
     "output_type": "execute_result"
    }
   ],
   "source": [
    "len(X)"
   ]
  },
  {
   "cell_type": "markdown",
   "metadata": {},
   "source": [
    "### 3. Build a machine learning pipeline\n",
    "This machine pipeline should take in the `message` column as input and output classification results on the other 36 categories in the dataset. You may find the [MultiOutputClassifier](http://scikit-learn.org/stable/modules/generated/sklearn.multioutput.MultiOutputClassifier.html) helpful for predicting multiple target variables."
   ]
  },
  {
   "cell_type": "code",
   "execution_count": 13,
   "metadata": {},
   "outputs": [],
   "source": [
    "pipeline2 = Pipeline([\n",
    "        ('vect', CountVectorizer(tokenizer=tokenize)),\n",
    "        ('tfidf', TfidfTransformer()),\n",
    "        ('clf', MultiOutputClassifier(RandomForestClassifier(n_estimators=100)))\n",
    "    ])"
   ]
  },
  {
   "cell_type": "code",
   "execution_count": 14,
   "metadata": {},
   "outputs": [],
   "source": [
    "pipeline4 = Pipeline([\n",
    "        ('vect', CountVectorizer(tokenizer=tokenize, ngram_range=(1, 2))),\n",
    "        ('tfidf', TfidfTransformer()),\n",
    "        ('clf', MultiOutputClassifier(RandomForestClassifier(n_estimators=100)))\n",
    "    ])"
   ]
  },
  {
   "cell_type": "code",
   "execution_count": 15,
   "metadata": {},
   "outputs": [],
   "source": [
    "pipeline = Pipeline([\n",
    "        ('vect', CountVectorizer(tokenizer=tokenize)),#, max_features=10)),\n",
    "        ('tfidf', TfidfTransformer()),\n",
    "        ('clf', MultiOutputClassifier(RandomForestClassifier()))\n",
    "    ])"
   ]
  },
  {
   "cell_type": "code",
   "execution_count": 9,
   "metadata": {},
   "outputs": [],
   "source": [
    "pipeline5 = Pipeline([\n",
    "        ('vect', CountVectorizer(tokenizer=tokenize)),\n",
    "        ('tfidf', TfidfTransformer()),\n",
    "        ('clf', MultiOutputClassifier(RandomForestClassifier(n_estimators=100, min_samples_split=4)))\n",
    "    ])"
   ]
  },
  {
   "cell_type": "markdown",
   "metadata": {},
   "source": [
    "### 4. Train pipeline\n",
    "- Split data into train and test sets\n",
    "- Train pipeline"
   ]
  },
  {
   "cell_type": "code",
   "execution_count": 10,
   "metadata": {},
   "outputs": [],
   "source": [
    "X_train, X_test, y_train, y_test = train_test_split(X, Y, random_state=42)"
   ]
  },
  {
   "cell_type": "code",
   "execution_count": 17,
   "metadata": {},
   "outputs": [
    {
     "data": {
      "text/plain": [
       "Pipeline(memory=None,\n",
       "     steps=[('vect', CountVectorizer(analyzer='word', binary=False, decode_error='strict',\n",
       "        dtype=<class 'numpy.int64'>, encoding='utf-8', input='content',\n",
       "        lowercase=True, max_df=1.0, max_features=None, min_df=1,\n",
       "        ngram_range=(1, 1), preprocessor=None, stop_words=None,\n",
       "        strip...oob_score=False, random_state=None, verbose=0,\n",
       "            warm_start=False),\n",
       "           n_jobs=1))])"
      ]
     },
     "execution_count": 17,
     "metadata": {},
     "output_type": "execute_result"
    }
   ],
   "source": [
    "pipeline.fit(X_train, y_train)"
   ]
  },
  {
   "cell_type": "code",
   "execution_count": 18,
   "metadata": {},
   "outputs": [
    {
     "data": {
      "text/plain": [
       "Pipeline(memory=None,\n",
       "     steps=[('vect', CountVectorizer(analyzer='word', binary=False, decode_error='strict',\n",
       "        dtype=<class 'numpy.int64'>, encoding='utf-8', input='content',\n",
       "        lowercase=True, max_df=1.0, max_features=None, min_df=1,\n",
       "        ngram_range=(1, 1), preprocessor=None, stop_words=None,\n",
       "        strip...oob_score=False, random_state=None, verbose=0,\n",
       "            warm_start=False),\n",
       "           n_jobs=1))])"
      ]
     },
     "execution_count": 18,
     "metadata": {},
     "output_type": "execute_result"
    }
   ],
   "source": [
    "pipeline2.fit(X_train, y_train)"
   ]
  },
  {
   "cell_type": "code",
   "execution_count": 19,
   "metadata": {},
   "outputs": [
    {
     "data": {
      "text/plain": [
       "Pipeline(memory=None,\n",
       "     steps=[('vect', CountVectorizer(analyzer='word', binary=False, decode_error='strict',\n",
       "        dtype=<class 'numpy.int64'>, encoding='utf-8', input='content',\n",
       "        lowercase=True, max_df=1.0, max_features=None, min_df=1,\n",
       "        ngram_range=(1, 2), preprocessor=None, stop_words=None,\n",
       "        strip...oob_score=False, random_state=None, verbose=0,\n",
       "            warm_start=False),\n",
       "           n_jobs=1))])"
      ]
     },
     "execution_count": 19,
     "metadata": {},
     "output_type": "execute_result"
    }
   ],
   "source": [
    "pipeline4.fit(X_train, y_train)"
   ]
  },
  {
   "cell_type": "code",
   "execution_count": 11,
   "metadata": {},
   "outputs": [
    {
     "data": {
      "text/plain": [
       "Pipeline(memory=None,\n",
       "     steps=[('vect', CountVectorizer(analyzer='word', binary=False, decode_error='strict',\n",
       "        dtype=<class 'numpy.int64'>, encoding='utf-8', input='content',\n",
       "        lowercase=True, max_df=1.0, max_features=None, min_df=1,\n",
       "        ngram_range=(1, 1), preprocessor=None, stop_words=None,\n",
       "        strip...oob_score=False, random_state=None, verbose=0,\n",
       "            warm_start=False),\n",
       "           n_jobs=1))])"
      ]
     },
     "execution_count": 11,
     "metadata": {},
     "output_type": "execute_result"
    }
   ],
   "source": [
    "pipeline5.fit(X_train, y_train)"
   ]
  },
  {
   "cell_type": "markdown",
   "metadata": {},
   "source": [
    "### 5. Test your model\n",
    "Report the f1 score, precision and recall for each output category of the dataset. You can do this by iterating through the columns and calling sklearn's `classification_report` on each."
   ]
  },
  {
   "cell_type": "code",
   "execution_count": 20,
   "metadata": {},
   "outputs": [],
   "source": [
    "y_test_pred = pipeline.predict(X_test)\n",
    "target_names = y_test.columns.values#tolist()"
   ]
  },
  {
   "cell_type": "code",
   "execution_count": 21,
   "metadata": {},
   "outputs": [
    {
     "name": "stdout",
     "output_type": "stream",
     "text": [
      "                        precision    recall  f1-score   support\n",
      "\n",
      "               related       1.00      0.99      0.99      6507\n",
      "               request       0.80      0.43      0.56      1111\n",
      "                 offer       0.00      0.00      0.00        33\n",
      "           aid_related       0.73      0.61      0.67      2670\n",
      "          medical_help       0.60      0.10      0.17       535\n",
      "      medical_products       0.71      0.06      0.11       344\n",
      "     search_and_rescue       0.55      0.04      0.07       159\n",
      "              security       0.33      0.01      0.02       116\n",
      "              military       0.58      0.10      0.16       200\n",
      "                 water       0.82      0.29      0.43       418\n",
      "                  food       0.85      0.48      0.62       745\n",
      "               shelter       0.80      0.27      0.41       581\n",
      "              clothing       0.69      0.09      0.16        98\n",
      "                 money       0.64      0.07      0.12       133\n",
      "        missing_people       0.88      0.10      0.17        73\n",
      "              refugees       0.40      0.04      0.07       215\n",
      "                 death       0.79      0.21      0.33       297\n",
      "             other_aid       0.43      0.05      0.08       864\n",
      "infrastructure_related       0.40      0.01      0.02       411\n",
      "             transport       0.63      0.07      0.13       303\n",
      "             buildings       0.73      0.10      0.18       323\n",
      "           electricity       0.89      0.05      0.10       147\n",
      "                 tools       0.00      0.00      0.00        43\n",
      "             hospitals       0.00      0.00      0.00        56\n",
      "                 shops       0.00      0.00      0.00        24\n",
      "           aid_centers       0.00      0.00      0.00        81\n",
      "  other_infrastructure       0.00      0.00      0.00       283\n",
      "       weather_related       0.82      0.62      0.70      1773\n",
      "                floods       0.81      0.40      0.53       519\n",
      "                 storm       0.73      0.44      0.55       605\n",
      "                  fire       0.75      0.05      0.09        66\n",
      "            earthquake       0.88      0.74      0.80       590\n",
      "                  cold       0.94      0.11      0.20       141\n",
      "         other_weather       0.43      0.03      0.05       335\n",
      "         direct_report       0.71      0.31      0.43      1272\n",
      "\n",
      "           avg / total       0.78      0.54      0.60     22071\n",
      "\n"
     ]
    },
    {
     "name": "stderr",
     "output_type": "stream",
     "text": [
      "/opt/conda/lib/python3.6/site-packages/sklearn/metrics/classification.py:1135: UndefinedMetricWarning: Precision and F-score are ill-defined and being set to 0.0 in labels with no predicted samples.\n",
      "  'precision', 'predicted', average, warn_for)\n"
     ]
    }
   ],
   "source": [
    "print(classification_report(y_test.values, y_test_pred, target_names=Y.columns))"
   ]
  },
  {
   "cell_type": "code",
   "execution_count": 22,
   "metadata": {},
   "outputs": [],
   "source": [
    "y_test_pred2 = pipeline2.predict(X_test)\n",
    "target_names = y_test.columns.values#tolist()"
   ]
  },
  {
   "cell_type": "code",
   "execution_count": 23,
   "metadata": {},
   "outputs": [
    {
     "name": "stdout",
     "output_type": "stream",
     "text": [
      "                        precision    recall  f1-score   support\n",
      "\n",
      "               related       0.99      1.00      1.00      6507\n",
      "               request       0.85      0.50      0.63      1111\n",
      "                 offer       0.00      0.00      0.00        33\n",
      "           aid_related       0.74      0.69      0.71      2670\n",
      "          medical_help       0.66      0.08      0.15       535\n",
      "      medical_products       0.81      0.08      0.14       344\n",
      "     search_and_rescue       0.82      0.06      0.11       159\n",
      "              security       0.33      0.01      0.02       116\n",
      "              military       0.61      0.06      0.10       200\n",
      "                 water       0.87      0.36      0.51       418\n",
      "                  food       0.84      0.62      0.71       745\n",
      "               shelter       0.80      0.40      0.53       581\n",
      "              clothing       0.82      0.09      0.17        98\n",
      "                 money       0.80      0.06      0.11       133\n",
      "        missing_people       1.00      0.03      0.05        73\n",
      "              refugees       0.54      0.07      0.12       215\n",
      "                 death       0.88      0.20      0.32       297\n",
      "             other_aid       0.52      0.03      0.07       864\n",
      "infrastructure_related       0.00      0.00      0.00       411\n",
      "             transport       0.72      0.08      0.14       303\n",
      "             buildings       0.88      0.13      0.23       323\n",
      "           electricity       1.00      0.02      0.04       147\n",
      "                 tools       0.00      0.00      0.00        43\n",
      "             hospitals       0.00      0.00      0.00        56\n",
      "                 shops       0.00      0.00      0.00        24\n",
      "           aid_centers       0.00      0.00      0.00        81\n",
      "  other_infrastructure       0.00      0.00      0.00       283\n",
      "       weather_related       0.83      0.71      0.77      1773\n",
      "                floods       0.87      0.50      0.63       519\n",
      "                 storm       0.74      0.54      0.62       605\n",
      "                  fire       0.00      0.00      0.00        66\n",
      "            earthquake       0.89      0.79      0.83       590\n",
      "                  cold       0.86      0.09      0.15       141\n",
      "         other_weather       0.81      0.04      0.07       335\n",
      "         direct_report       0.77      0.36      0.49      1272\n",
      "\n",
      "           avg / total       0.80      0.58      0.63     22071\n",
      "\n"
     ]
    },
    {
     "name": "stderr",
     "output_type": "stream",
     "text": [
      "/opt/conda/lib/python3.6/site-packages/sklearn/metrics/classification.py:1135: UndefinedMetricWarning: Precision and F-score are ill-defined and being set to 0.0 in labels with no predicted samples.\n",
      "  'precision', 'predicted', average, warn_for)\n"
     ]
    }
   ],
   "source": [
    "print(classification_report(y_test.values, y_test_pred2, target_names=Y.columns))"
   ]
  },
  {
   "cell_type": "code",
   "execution_count": 24,
   "metadata": {},
   "outputs": [],
   "source": [
    "y_test_pred4 = pipeline4.predict(X_test)\n",
    "target_names = y_test.columns.values#tolist()"
   ]
  },
  {
   "cell_type": "code",
   "execution_count": 25,
   "metadata": {
    "scrolled": true
   },
   "outputs": [
    {
     "name": "stdout",
     "output_type": "stream",
     "text": [
      "                        precision    recall  f1-score   support\n",
      "\n",
      "               related       0.99      1.00      1.00      6507\n",
      "               request       0.84      0.48      0.61      1111\n",
      "                 offer       0.00      0.00      0.00        33\n",
      "           aid_related       0.77      0.65      0.70      2670\n",
      "          medical_help       0.69      0.08      0.15       535\n",
      "      medical_products       0.89      0.10      0.17       344\n",
      "     search_and_rescue       0.80      0.08      0.14       159\n",
      "              security       0.33      0.01      0.02       116\n",
      "              military       0.60      0.04      0.08       200\n",
      "                 water       0.85      0.41      0.55       418\n",
      "                  food       0.87      0.54      0.66       745\n",
      "               shelter       0.83      0.31      0.45       581\n",
      "              clothing       0.73      0.08      0.15        98\n",
      "                 money       0.88      0.05      0.10       133\n",
      "        missing_people       1.00      0.03      0.05        73\n",
      "              refugees       0.36      0.02      0.04       215\n",
      "                 death       0.88      0.25      0.38       297\n",
      "             other_aid       0.60      0.04      0.07       864\n",
      "infrastructure_related       0.00      0.00      0.00       411\n",
      "             transport       0.75      0.03      0.06       303\n",
      "             buildings       0.81      0.13      0.23       323\n",
      "           electricity       1.00      0.01      0.03       147\n",
      "                 tools       0.00      0.00      0.00        43\n",
      "             hospitals       0.00      0.00      0.00        56\n",
      "                 shops       0.00      0.00      0.00        24\n",
      "           aid_centers       0.00      0.00      0.00        81\n",
      "  other_infrastructure       0.25      0.00      0.01       283\n",
      "       weather_related       0.84      0.65      0.73      1773\n",
      "                floods       0.87      0.39      0.54       519\n",
      "                 storm       0.75      0.44      0.55       605\n",
      "                  fire       1.00      0.03      0.06        66\n",
      "            earthquake       0.88      0.72      0.80       590\n",
      "                  cold       0.75      0.02      0.04       141\n",
      "         other_weather       0.50      0.02      0.03       335\n",
      "         direct_report       0.76      0.33      0.46      1272\n",
      "\n",
      "           avg / total       0.81      0.55      0.61     22071\n",
      "\n"
     ]
    },
    {
     "name": "stderr",
     "output_type": "stream",
     "text": [
      "/opt/conda/lib/python3.6/site-packages/sklearn/metrics/classification.py:1135: UndefinedMetricWarning: Precision and F-score are ill-defined and being set to 0.0 in labels with no predicted samples.\n",
      "  'precision', 'predicted', average, warn_for)\n"
     ]
    }
   ],
   "source": [
    "print(classification_report(y_test.values, y_test_pred4, target_names=Y.columns))"
   ]
  },
  {
   "cell_type": "code",
   "execution_count": 28,
   "metadata": {},
   "outputs": [],
   "source": [
    "y_test_pred5 = pipeline5.predict(X_test)\n",
    "target_names = y_test.columns.values#tolist()"
   ]
  },
  {
   "cell_type": "code",
   "execution_count": 29,
   "metadata": {},
   "outputs": [
    {
     "name": "stdout",
     "output_type": "stream",
     "text": [
      "                        precision    recall  f1-score   support\n",
      "\n",
      "               related       0.99      1.00      1.00      6507\n",
      "               request       0.83      0.51      0.63      1111\n",
      "                 offer       0.00      0.00      0.00        33\n",
      "           aid_related       0.74      0.71      0.72      2670\n",
      "          medical_help       0.66      0.10      0.17       535\n",
      "      medical_products       0.78      0.08      0.15       344\n",
      "     search_and_rescue       0.78      0.04      0.08       159\n",
      "              security       0.00      0.00      0.00       116\n",
      "              military       0.60      0.09      0.16       200\n",
      "                 water       0.89      0.41      0.56       418\n",
      "                  food       0.85      0.63      0.72       745\n",
      "               shelter       0.82      0.40      0.54       581\n",
      "              clothing       0.86      0.06      0.11        98\n",
      "                 money       0.80      0.06      0.11       133\n",
      "        missing_people       1.00      0.01      0.03        73\n",
      "              refugees       0.45      0.02      0.04       215\n",
      "                 death       0.89      0.19      0.31       297\n",
      "             other_aid       0.64      0.04      0.08       864\n",
      "infrastructure_related       0.00      0.00      0.00       411\n",
      "             transport       0.78      0.08      0.15       303\n",
      "             buildings       0.89      0.12      0.21       323\n",
      "           electricity       1.00      0.02      0.04       147\n",
      "                 tools       0.00      0.00      0.00        43\n",
      "             hospitals       0.00      0.00      0.00        56\n",
      "                 shops       0.00      0.00      0.00        24\n",
      "           aid_centers       0.00      0.00      0.00        81\n",
      "  other_infrastructure       0.00      0.00      0.00       283\n",
      "       weather_related       0.82      0.71      0.76      1773\n",
      "                floods       0.87      0.50      0.63       519\n",
      "                 storm       0.74      0.57      0.64       605\n",
      "                  fire       0.50      0.02      0.03        66\n",
      "            earthquake       0.88      0.79      0.83       590\n",
      "                  cold       0.85      0.12      0.21       141\n",
      "         other_weather       0.67      0.02      0.05       335\n",
      "         direct_report       0.77      0.35      0.48      1272\n",
      "\n",
      "           avg / total       0.81      0.59      0.63     22071\n",
      "\n"
     ]
    },
    {
     "name": "stderr",
     "output_type": "stream",
     "text": [
      "/opt/conda/lib/python3.6/site-packages/sklearn/metrics/classification.py:1135: UndefinedMetricWarning: Precision and F-score are ill-defined and being set to 0.0 in labels with no predicted samples.\n",
      "  'precision', 'predicted', average, warn_for)\n"
     ]
    }
   ],
   "source": [
    "print(classification_report(y_test.values, y_test_pred5, target_names=Y.columns))"
   ]
  },
  {
   "cell_type": "code",
   "execution_count": 42,
   "metadata": {},
   "outputs": [],
   "source": [
    "#for index, col in enumerate(Y.columns):\n",
    "#    print(f\"Feature: {col}\")\n",
    "#    print(classification_report(y_test[col], y_test_pred[:,index]))#, target_names=col))"
   ]
  },
  {
   "cell_type": "markdown",
   "metadata": {},
   "source": [
    "### 6. Improve your model\n",
    "Use grid search to find better parameters. "
   ]
  },
  {
   "cell_type": "code",
   "execution_count": 23,
   "metadata": {
    "scrolled": true
   },
   "outputs": [
    {
     "data": {
      "text/plain": [
       "dict_keys(['memory', 'steps', 'vect', 'tfidf', 'clf', 'vect__analyzer', 'vect__binary', 'vect__decode_error', 'vect__dtype', 'vect__encoding', 'vect__input', 'vect__lowercase', 'vect__max_df', 'vect__max_features', 'vect__min_df', 'vect__ngram_range', 'vect__preprocessor', 'vect__stop_words', 'vect__strip_accents', 'vect__token_pattern', 'vect__tokenizer', 'vect__vocabulary', 'tfidf__norm', 'tfidf__smooth_idf', 'tfidf__sublinear_tf', 'tfidf__use_idf', 'clf__estimator__bootstrap', 'clf__estimator__class_weight', 'clf__estimator__criterion', 'clf__estimator__max_depth', 'clf__estimator__max_features', 'clf__estimator__max_leaf_nodes', 'clf__estimator__min_impurity_decrease', 'clf__estimator__min_impurity_split', 'clf__estimator__min_samples_leaf', 'clf__estimator__min_samples_split', 'clf__estimator__min_weight_fraction_leaf', 'clf__estimator__n_estimators', 'clf__estimator__n_jobs', 'clf__estimator__oob_score', 'clf__estimator__random_state', 'clf__estimator__verbose', 'clf__estimator__warm_start', 'clf__estimator', 'clf__n_jobs'])"
      ]
     },
     "execution_count": 23,
     "metadata": {},
     "output_type": "execute_result"
    }
   ],
   "source": [
    "pipeline.get_params().keys()"
   ]
  },
  {
   "cell_type": "code",
   "execution_count": 32,
   "metadata": {},
   "outputs": [
    {
     "name": "stdout",
     "output_type": "stream",
     "text": [
      "Fitting 3 folds for each of 8 candidates, totalling 24 fits\n",
      "[CV] clf__estimator__min_samples_split=2, tfidf__use_idf=True, vect__ngram_range=(1, 1) \n",
      "[CV]  clf__estimator__min_samples_split=2, tfidf__use_idf=True, vect__ngram_range=(1, 1), total= 2.0min\n",
      "[CV] clf__estimator__min_samples_split=2, tfidf__use_idf=True, vect__ngram_range=(1, 1) \n"
     ]
    },
    {
     "name": "stderr",
     "output_type": "stream",
     "text": [
      "[Parallel(n_jobs=1)]: Done   1 out of   1 | elapsed:  3.0min remaining:    0.0s\n"
     ]
    },
    {
     "name": "stdout",
     "output_type": "stream",
     "text": [
      "[CV]  clf__estimator__min_samples_split=2, tfidf__use_idf=True, vect__ngram_range=(1, 1), total= 2.0min\n",
      "[CV] clf__estimator__min_samples_split=2, tfidf__use_idf=True, vect__ngram_range=(1, 1) \n",
      "[CV]  clf__estimator__min_samples_split=2, tfidf__use_idf=True, vect__ngram_range=(1, 1), total= 2.0min\n",
      "[CV] clf__estimator__min_samples_split=2, tfidf__use_idf=True, vect__ngram_range=(1, 2) \n",
      "[CV]  clf__estimator__min_samples_split=2, tfidf__use_idf=True, vect__ngram_range=(1, 2), total= 3.0min\n",
      "[CV] clf__estimator__min_samples_split=2, tfidf__use_idf=True, vect__ngram_range=(1, 2) \n",
      "[CV]  clf__estimator__min_samples_split=2, tfidf__use_idf=True, vect__ngram_range=(1, 2), total= 3.1min\n",
      "[CV] clf__estimator__min_samples_split=2, tfidf__use_idf=True, vect__ngram_range=(1, 2) \n",
      "[CV]  clf__estimator__min_samples_split=2, tfidf__use_idf=True, vect__ngram_range=(1, 2), total= 3.0min\n",
      "[CV] clf__estimator__min_samples_split=2, tfidf__use_idf=False, vect__ngram_range=(1, 1) \n",
      "[CV]  clf__estimator__min_samples_split=2, tfidf__use_idf=False, vect__ngram_range=(1, 1), total= 2.0min\n",
      "[CV] clf__estimator__min_samples_split=2, tfidf__use_idf=False, vect__ngram_range=(1, 1) \n",
      "[CV]  clf__estimator__min_samples_split=2, tfidf__use_idf=False, vect__ngram_range=(1, 1), total= 2.0min\n",
      "[CV] clf__estimator__min_samples_split=2, tfidf__use_idf=False, vect__ngram_range=(1, 1) \n",
      "[CV]  clf__estimator__min_samples_split=2, tfidf__use_idf=False, vect__ngram_range=(1, 1), total= 2.0min\n",
      "[CV] clf__estimator__min_samples_split=2, tfidf__use_idf=False, vect__ngram_range=(1, 2) \n",
      "[CV]  clf__estimator__min_samples_split=2, tfidf__use_idf=False, vect__ngram_range=(1, 2), total= 3.0min\n",
      "[CV] clf__estimator__min_samples_split=2, tfidf__use_idf=False, vect__ngram_range=(1, 2) \n",
      "[CV]  clf__estimator__min_samples_split=2, tfidf__use_idf=False, vect__ngram_range=(1, 2), total= 3.0min\n",
      "[CV] clf__estimator__min_samples_split=2, tfidf__use_idf=False, vect__ngram_range=(1, 2) \n",
      "[CV]  clf__estimator__min_samples_split=2, tfidf__use_idf=False, vect__ngram_range=(1, 2), total= 3.0min\n",
      "[CV] clf__estimator__min_samples_split=4, tfidf__use_idf=True, vect__ngram_range=(1, 1) \n",
      "[CV]  clf__estimator__min_samples_split=4, tfidf__use_idf=True, vect__ngram_range=(1, 1), total= 1.9min\n",
      "[CV] clf__estimator__min_samples_split=4, tfidf__use_idf=True, vect__ngram_range=(1, 1) \n",
      "[CV]  clf__estimator__min_samples_split=4, tfidf__use_idf=True, vect__ngram_range=(1, 1), total= 1.9min\n",
      "[CV] clf__estimator__min_samples_split=4, tfidf__use_idf=True, vect__ngram_range=(1, 1) \n",
      "[CV]  clf__estimator__min_samples_split=4, tfidf__use_idf=True, vect__ngram_range=(1, 1), total= 1.9min\n",
      "[CV] clf__estimator__min_samples_split=4, tfidf__use_idf=True, vect__ngram_range=(1, 2) \n",
      "[CV]  clf__estimator__min_samples_split=4, tfidf__use_idf=True, vect__ngram_range=(1, 2), total= 2.7min\n",
      "[CV] clf__estimator__min_samples_split=4, tfidf__use_idf=True, vect__ngram_range=(1, 2) \n",
      "[CV]  clf__estimator__min_samples_split=4, tfidf__use_idf=True, vect__ngram_range=(1, 2), total= 2.6min\n",
      "[CV] clf__estimator__min_samples_split=4, tfidf__use_idf=True, vect__ngram_range=(1, 2) \n",
      "[CV]  clf__estimator__min_samples_split=4, tfidf__use_idf=True, vect__ngram_range=(1, 2), total= 2.7min\n",
      "[CV] clf__estimator__min_samples_split=4, tfidf__use_idf=False, vect__ngram_range=(1, 1) \n",
      "[CV]  clf__estimator__min_samples_split=4, tfidf__use_idf=False, vect__ngram_range=(1, 1), total= 1.9min\n",
      "[CV] clf__estimator__min_samples_split=4, tfidf__use_idf=False, vect__ngram_range=(1, 1) \n",
      "[CV]  clf__estimator__min_samples_split=4, tfidf__use_idf=False, vect__ngram_range=(1, 1), total= 1.9min\n",
      "[CV] clf__estimator__min_samples_split=4, tfidf__use_idf=False, vect__ngram_range=(1, 1) \n",
      "[CV]  clf__estimator__min_samples_split=4, tfidf__use_idf=False, vect__ngram_range=(1, 1), total= 1.9min\n",
      "[CV] clf__estimator__min_samples_split=4, tfidf__use_idf=False, vect__ngram_range=(1, 2) \n",
      "[CV]  clf__estimator__min_samples_split=4, tfidf__use_idf=False, vect__ngram_range=(1, 2), total= 2.7min\n",
      "[CV] clf__estimator__min_samples_split=4, tfidf__use_idf=False, vect__ngram_range=(1, 2) \n",
      "[CV]  clf__estimator__min_samples_split=4, tfidf__use_idf=False, vect__ngram_range=(1, 2), total= 2.7min\n",
      "[CV] clf__estimator__min_samples_split=4, tfidf__use_idf=False, vect__ngram_range=(1, 2) \n",
      "[CV]  clf__estimator__min_samples_split=4, tfidf__use_idf=False, vect__ngram_range=(1, 2), total= 2.7min\n"
     ]
    },
    {
     "name": "stderr",
     "output_type": "stream",
     "text": [
      "[Parallel(n_jobs=1)]: Done  24 out of  24 | elapsed: 82.4min finished\n"
     ]
    }
   ],
   "source": [
    "parameters = {\n",
    "        'vect__ngram_range': ((1, 1), (1, 2)),\n",
    "        'tfidf__use_idf': (True, False),\n",
    "        #'clf__estimator__n_estimators': [50, 100],\n",
    "        'clf__estimator__min_samples_split': [2, 4]\n",
    "            }\n",
    "        \n",
    "\n",
    "cv = GridSearchCV(pipeline, param_grid=parameters, verbose=2)\n",
    "\n",
    "cv.fit(X_train, y_train)\n",
    "y_pred = cv.predict(X_test)"
   ]
  },
  {
   "cell_type": "code",
   "execution_count": 33,
   "metadata": {},
   "outputs": [
    {
     "data": {
      "text/plain": [
       "{'clf__estimator__min_samples_split': 4,\n",
       " 'tfidf__use_idf': False,\n",
       " 'vect__ngram_range': (1, 2)}"
      ]
     },
     "execution_count": 33,
     "metadata": {},
     "output_type": "execute_result"
    }
   ],
   "source": [
    "cv.best_params_"
   ]
  },
  {
   "cell_type": "markdown",
   "metadata": {},
   "source": [
    "### 7. Test your model\n",
    "Show the accuracy, precision, and recall of the tuned model.  \n",
    "\n",
    "Since this project focuses on code quality, process, and  pipelines, there is no minimum performance metric needed to pass. However, make sure to fine tune your models for accuracy, precision and recall to make your project stand out - especially for your portfolio!"
   ]
  },
  {
   "cell_type": "code",
   "execution_count": 34,
   "metadata": {},
   "outputs": [
    {
     "name": "stdout",
     "output_type": "stream",
     "text": [
      "                        precision    recall  f1-score   support\n",
      "\n",
      "               related       0.99      1.00      1.00      6507\n",
      "               request       0.81      0.46      0.59      1111\n",
      "                 offer       0.00      0.00      0.00        33\n",
      "           aid_related       0.74      0.65      0.69      2670\n",
      "          medical_help       0.60      0.06      0.11       535\n",
      "      medical_products       0.86      0.12      0.22       344\n",
      "     search_and_rescue       0.81      0.08      0.15       159\n",
      "              security       0.50      0.01      0.02       116\n",
      "              military       0.52      0.08      0.14       200\n",
      "                 water       0.87      0.35      0.50       418\n",
      "                  food       0.83      0.60      0.69       745\n",
      "               shelter       0.79      0.37      0.50       581\n",
      "              clothing       0.78      0.18      0.30        98\n",
      "                 money       0.73      0.08      0.15       133\n",
      "        missing_people       1.00      0.01      0.03        73\n",
      "              refugees       0.48      0.06      0.10       215\n",
      "                 death       0.85      0.27      0.41       297\n",
      "             other_aid       0.56      0.05      0.10       864\n",
      "infrastructure_related       0.50      0.00      0.01       411\n",
      "             transport       0.70      0.06      0.12       303\n",
      "             buildings       0.72      0.16      0.26       323\n",
      "           electricity       1.00      0.07      0.13       147\n",
      "                 tools       0.00      0.00      0.00        43\n",
      "             hospitals       0.00      0.00      0.00        56\n",
      "                 shops       0.00      0.00      0.00        24\n",
      "           aid_centers       0.00      0.00      0.00        81\n",
      "  other_infrastructure       0.50      0.01      0.01       283\n",
      "       weather_related       0.81      0.62      0.70      1773\n",
      "                floods       0.86      0.38      0.52       519\n",
      "                 storm       0.74      0.43      0.54       605\n",
      "                  fire       0.50      0.05      0.08        66\n",
      "            earthquake       0.89      0.73      0.80       590\n",
      "                  cold       0.77      0.14      0.24       141\n",
      "         other_weather       0.38      0.02      0.04       335\n",
      "         direct_report       0.74      0.33      0.45      1272\n",
      "\n",
      "           avg / total       0.81      0.56      0.61     22071\n",
      "\n"
     ]
    },
    {
     "name": "stderr",
     "output_type": "stream",
     "text": [
      "/opt/conda/lib/python3.6/site-packages/sklearn/metrics/classification.py:1135: UndefinedMetricWarning: Precision and F-score are ill-defined and being set to 0.0 in labels with no predicted samples.\n",
      "  'precision', 'predicted', average, warn_for)\n"
     ]
    }
   ],
   "source": [
    "print(classification_report(y_test.values, y_pred, target_names=Y.columns.values))"
   ]
  },
  {
   "cell_type": "markdown",
   "metadata": {},
   "source": [
    "### 8. Try improving your model further. Here are a few ideas:\n",
    "* try other machine learning algorithms\n",
    "* add other features besides the TF-IDF"
   ]
  },
  {
   "cell_type": "code",
   "execution_count": 26,
   "metadata": {},
   "outputs": [],
   "source": [
    "from sklearn.discriminant_analysis import QuadraticDiscriminantAnalysis\n",
    "from sklearn.naive_bayes import GaussianNB\n",
    "from sklearn.svm import SVC\n"
   ]
  },
  {
   "cell_type": "code",
   "execution_count": 33,
   "metadata": {},
   "outputs": [],
   "source": [
    "from sklearn.base import TransformerMixin\n",
    "from sklearn.base import BaseEstimator"
   ]
  },
  {
   "cell_type": "code",
   "execution_count": null,
   "metadata": {},
   "outputs": [],
   "source": [
    "class DenseTransformer(TransformerMixin, BaseEstimator):\n",
    "    def transform(self, X, y=None, **fit_params):\n",
    "        return X.todense()\n",
    "\n",
    "    def fit_transform(self, X, y=None, **fit_params):\n",
    "        self.fit(X, y, **fit_params)\n",
    "        return self.transform(X)\n",
    "\n",
    "    def fit(self, X, y=None, **fit_params):\n",
    "        return self"
   ]
  },
  {
   "cell_type": "code",
   "execution_count": 28,
   "metadata": {},
   "outputs": [],
   "source": [
    "pipeline3 = Pipeline([\n",
    "        ('vect', CountVectorizer(tokenizer=tokenize)),#, max_features=20)),\n",
    "        ('tfidf', TfidfTransformer()),\n",
    "        #('to_dense', DenseTransformer()),\n",
    "        #('clf', MultiOutputClassifier(GaussianNB()))\n",
    "        ('clf', MultiOutputClassifier(SVC()))\n",
    "        \n",
    "    ])"
   ]
  },
  {
   "cell_type": "markdown",
   "metadata": {},
   "source": [
    "Grid search takes extremely long time. Not feasible to run sadly."
   ]
  },
  {
   "cell_type": "code",
   "execution_count": null,
   "metadata": {},
   "outputs": [],
   "source": [
    "parameters = {\n",
    "        'vect__ngram_range': ((1, 1), (1, 2)),\n",
    "        'tfidf__use_idf': (True, False),\n",
    "            }\n",
    "        \n",
    "cv = GridSearchCV(pipeline3, param_grid=parameters, verbose=2)"
   ]
  },
  {
   "cell_type": "code",
   "execution_count": null,
   "metadata": {},
   "outputs": [],
   "source": [
    "#cv.fit(X_train[:50], y_train[:50])\n",
    "cv.fit(X_train, y_train)"
   ]
  },
  {
   "cell_type": "code",
   "execution_count": 44,
   "metadata": {},
   "outputs": [],
   "source": [
    "#y_pred = cv.predict(X_test)"
   ]
  },
  {
   "cell_type": "code",
   "execution_count": 45,
   "metadata": {},
   "outputs": [],
   "source": [
    "#print(classification_report(y_test.values, y_pred, target_names=Y.columns))"
   ]
  },
  {
   "cell_type": "code",
   "execution_count": 29,
   "metadata": {},
   "outputs": [],
   "source": [
    "pipeline3.fit(X_train, y_train)\n",
    "y_pred = pipeline3.predict(X_test)"
   ]
  },
  {
   "cell_type": "code",
   "execution_count": 30,
   "metadata": {},
   "outputs": [
    {
     "name": "stdout",
     "output_type": "stream",
     "text": [
      "                        precision    recall  f1-score   support\n",
      "\n",
      "               related       0.99      1.00      1.00      6507\n",
      "               request       0.00      0.00      0.00      1111\n",
      "                 offer       0.00      0.00      0.00        33\n",
      "           aid_related       0.00      0.00      0.00      2670\n",
      "          medical_help       0.00      0.00      0.00       535\n",
      "      medical_products       0.00      0.00      0.00       344\n",
      "     search_and_rescue       0.00      0.00      0.00       159\n",
      "              security       0.00      0.00      0.00       116\n",
      "              military       0.00      0.00      0.00       200\n",
      "                 water       0.00      0.00      0.00       418\n",
      "                  food       0.00      0.00      0.00       745\n",
      "               shelter       0.00      0.00      0.00       581\n",
      "              clothing       0.00      0.00      0.00        98\n",
      "                 money       0.00      0.00      0.00       133\n",
      "        missing_people       0.00      0.00      0.00        73\n",
      "              refugees       0.00      0.00      0.00       215\n",
      "                 death       0.00      0.00      0.00       297\n",
      "             other_aid       0.00      0.00      0.00       864\n",
      "infrastructure_related       0.00      0.00      0.00       411\n",
      "             transport       0.00      0.00      0.00       303\n",
      "             buildings       0.00      0.00      0.00       323\n",
      "           electricity       0.00      0.00      0.00       147\n",
      "                 tools       0.00      0.00      0.00        43\n",
      "             hospitals       0.00      0.00      0.00        56\n",
      "                 shops       0.00      0.00      0.00        24\n",
      "           aid_centers       0.00      0.00      0.00        81\n",
      "  other_infrastructure       0.00      0.00      0.00       283\n",
      "       weather_related       0.00      0.00      0.00      1773\n",
      "                floods       0.00      0.00      0.00       519\n",
      "                 storm       0.00      0.00      0.00       605\n",
      "                  fire       0.00      0.00      0.00        66\n",
      "            earthquake       0.00      0.00      0.00       590\n",
      "                  cold       0.00      0.00      0.00       141\n",
      "         other_weather       0.00      0.00      0.00       335\n",
      "         direct_report       0.00      0.00      0.00      1272\n",
      "\n",
      "           avg / total       0.29      0.29      0.29     22071\n",
      "\n"
     ]
    },
    {
     "name": "stderr",
     "output_type": "stream",
     "text": [
      "/opt/conda/lib/python3.6/site-packages/sklearn/metrics/classification.py:1135: UndefinedMetricWarning: Precision and F-score are ill-defined and being set to 0.0 in labels with no predicted samples.\n",
      "  'precision', 'predicted', average, warn_for)\n"
     ]
    }
   ],
   "source": [
    "print(classification_report(y_test.values, y_pred, target_names=Y.columns))"
   ]
  },
  {
   "cell_type": "markdown",
   "metadata": {},
   "source": [
    "### 9. Export your model as a pickle file"
   ]
  },
  {
   "cell_type": "code",
   "execution_count": 12,
   "metadata": {},
   "outputs": [],
   "source": [
    "\n",
    "pickle.dump(pipeline5, open('final_model.pkl', 'wb'))"
   ]
  },
  {
   "cell_type": "markdown",
   "metadata": {},
   "source": [
    "### 10. Use this notebook to complete `train.py`\n",
    "Use the template file attached in the Resources folder to write a script that runs the steps above to create a database and export a model based on a new dataset specified by the user."
   ]
  },
  {
   "cell_type": "code",
   "execution_count": null,
   "metadata": {},
   "outputs": [],
   "source": []
  }
 ],
 "metadata": {
  "kernelspec": {
   "display_name": "Python 3",
   "language": "python",
   "name": "python3"
  },
  "language_info": {
   "codemirror_mode": {
    "name": "ipython",
    "version": 3
   },
   "file_extension": ".py",
   "mimetype": "text/x-python",
   "name": "python",
   "nbconvert_exporter": "python",
   "pygments_lexer": "ipython3",
   "version": "3.6.3"
  }
 },
 "nbformat": 4,
 "nbformat_minor": 2
}
